{
 "cells": [
  {
   "cell_type": "markdown",
   "metadata": {},
   "source": [
    "# Neural Network utilizing ASNM_TUN dataset to determine malicious network traffic"
   ]
  },
  {
   "cell_type": "markdown",
   "metadata": {},
   "source": [
    "### Importing libraries"
   ]
  },
  {
   "cell_type": "code",
   "execution_count": 1,
   "metadata": {
    "tags": []
   },
   "outputs": [
    {
     "output_type": "stream",
     "name": "stderr",
     "text": "Using TensorFlow backend.\n"
    }
   ],
   "source": [
    "import os\n",
    "import pandas as pd\n",
    "import numpy as np\n",
    "from tensorflow import keras\n",
    "from tensorflow.keras import layers\n",
    "from keras.optimizers import SGD\n",
    "from keras.models import Sequential\n",
    "from keras.layers import *\n",
    "from sklearn.preprocessing import MinMaxScaler\n",
    "from sklearn.model_selection import KFold\n",
    "from sklearn.model_selection import StratifiedKFold\n",
    "from sklearn.feature_selection import RFECV\n",
    "from keras.wrappers.scikit_learn import KerasClassifier\n",
    "from sklearn.model_selection import cross_val_score\n",
    "from sklearn.svm import SVC\n",
    "from sklearn.tree import DecisionTreeClassifier\n",
    "from sklearn.multiclass import OneVsRestClassifier\n",
    "from sklearn.neighbors import KNeighborsClassifier\n",
    "import wandb\n",
    "from wandb.keras import WandbCallback\n",
    "from sklearn.preprocessing import LabelEncoder\n",
    "from keras.utils import np_utils\n",
    "np.random.seed(7)\n",
    "import tensorflow as tf\n",
    "tf.random.set_seed(2) "
   ]
  },
  {
   "cell_type": "markdown",
   "metadata": {},
   "source": [
    "### Pulling Data"
   ]
  },
  {
   "cell_type": "code",
   "execution_count": 2,
   "metadata": {},
   "outputs": [],
   "source": [
    "df = pd.read_csv(\"ASNM-datasets/ASNM-TUN.csv\")"
   ]
  },
  {
   "cell_type": "markdown",
   "metadata": {},
   "source": [
    "### Replacing missing spaces with mean of dataframe"
   ]
  },
  {
   "cell_type": "code",
   "execution_count": 3,
   "metadata": {},
   "outputs": [],
   "source": [
    "df = df.fillna(df.mean())"
   ]
  },
  {
   "cell_type": "markdown",
   "metadata": {},
   "source": [
    "### Using attributes from Feature Selection for our input data and make out output data label 3\n",
    "### Label 3: distinguishes among legitimate traffic (symbol 3), direct and obfuscated network attacks (symbols 1 and 2)"
   ]
  },
  {
   "cell_type": "code",
   "execution_count": 4,
   "metadata": {},
   "outputs": [],
   "source": [
    "FFSCols = ['PolyInd10ordOut[3]',\n",
    " 'OutPktLen64s10i[8]',\n",
    " 'OutPkt4s10i[7]',\n",
    " 'ConTcpFinCntIn',\n",
    " 'GaussProds4In[1]',\n",
    " 'FourGonAngleAllN[2]',\n",
    " 'MedTCPHdrLen',\n",
    " 'GaussProds8In[5]',\n",
    " 'SumTTLOut',\n",
    " 'PolyTime10ordOut[2]',\n",
    " 'InPkt64s20iTr2KB[14]',\n",
    " 'OutPktLen64s10i[5]',\n",
    " 'PolyInd13ordIn[7]',\n",
    " 'InPkt1s10i[8]',\n",
    " 'OutPkt32s20iTr4KB[11]',\n",
    " 'PolyTime10ordOut[8]',\n",
    " 'OutPktLen4s10i[3]',\n",
    " 'PolyInd13ordOut[13]',\n",
    " 'PolyInd13ordIn[12]',\n",
    " 'InPkt64s20iTr2KB[7]']\n",
    "X = df[FFSCols].values\n",
    "y = df[['label_3']].values"
   ]
  },
  {
   "cell_type": "markdown",
   "metadata": {},
   "source": [
    "### Normalizing input data"
   ]
  },
  {
   "cell_type": "code",
   "execution_count": 5,
   "metadata": {},
   "outputs": [],
   "source": [
    "scaler = MinMaxScaler(feature_range=(0.1,0.9))\n",
    "X = scaler.fit_transform(X)\n"
   ]
  },
  {
   "cell_type": "markdown",
   "metadata": {},
   "source": [
    "### Encoding the output for multiclassification"
   ]
  },
  {
   "cell_type": "code",
   "execution_count": 6,
   "metadata": {},
   "outputs": [],
   "source": [
    "encoder = LabelEncoder()\n",
    "encoder.fit(y)\n",
    "encoded_Y = encoder.transform(y)\n",
    "y = np_utils.to_categorical(encoded_Y)"
   ]
  },
  {
   "cell_type": "markdown",
   "metadata": {},
   "source": [
    "### KFold Cross Validation"
   ]
  },
  {
   "cell_type": "code",
   "execution_count": 7,
   "metadata": {},
   "outputs": [],
   "source": [
    "kfold = KFold(n_splits=5, shuffle=True, random_state=7)"
   ]
  },
  {
   "cell_type": "markdown",
   "metadata": {},
   "source": [
    "### Building baseline model with Adam optimizer"
   ]
  },
  {
   "cell_type": "code",
   "execution_count": 8,
   "metadata": {
    "tags": []
   },
   "outputs": [
    {
     "output_type": "display_data",
     "data": {
      "text/plain": "<IPython.core.display.HTML object>",
      "text/html": "\n                Logging results to <a href=\"https://wandb.com\" target=\"_blank\">Weights & Biases</a> <a href=\"https://docs.wandb.com/integrations/jupyter.html\" target=\"_blank\">(Documentation)</a>.<br/>\n                Project page: <a href=\"https://app.wandb.ai/ajay340/asnm-tun\" target=\"_blank\">https://app.wandb.ai/ajay340/asnm-tun</a><br/>\n                Run page: <a href=\"https://app.wandb.ai/ajay340/asnm-tun/runs/iwv80n8p\" target=\"_blank\">https://app.wandb.ai/ajay340/asnm-tun/runs/iwv80n8p</a><br/>\n            "
     },
     "metadata": {}
    },
    {
     "output_type": "stream",
     "name": "stdout",
     "text": "---------------------------\naccuracy: 87.34%\n---------------------------\n"
    },
    {
     "output_type": "display_data",
     "data": {
      "text/plain": "<IPython.core.display.HTML object>",
      "text/html": "\n                Logging results to <a href=\"https://wandb.com\" target=\"_blank\">Weights & Biases</a> <a href=\"https://docs.wandb.com/integrations/jupyter.html\" target=\"_blank\">(Documentation)</a>.<br/>\n                Project page: <a href=\"https://app.wandb.ai/ajay340/asnm-tun\" target=\"_blank\">https://app.wandb.ai/ajay340/asnm-tun</a><br/>\n                Run page: <a href=\"https://app.wandb.ai/ajay340/asnm-tun/runs/1y2aykw1\" target=\"_blank\">https://app.wandb.ai/ajay340/asnm-tun/runs/1y2aykw1</a><br/>\n            "
     },
     "metadata": {}
    },
    {
     "output_type": "stream",
     "name": "stdout",
     "text": "---------------------------\naccuracy: 78.48%\n---------------------------\n"
    },
    {
     "output_type": "display_data",
     "data": {
      "text/plain": "<IPython.core.display.HTML object>",
      "text/html": "\n                Logging results to <a href=\"https://wandb.com\" target=\"_blank\">Weights & Biases</a> <a href=\"https://docs.wandb.com/integrations/jupyter.html\" target=\"_blank\">(Documentation)</a>.<br/>\n                Project page: <a href=\"https://app.wandb.ai/ajay340/asnm-tun\" target=\"_blank\">https://app.wandb.ai/ajay340/asnm-tun</a><br/>\n                Run page: <a href=\"https://app.wandb.ai/ajay340/asnm-tun/runs/3dnhgark\" target=\"_blank\">https://app.wandb.ai/ajay340/asnm-tun/runs/3dnhgark</a><br/>\n            "
     },
     "metadata": {}
    },
    {
     "output_type": "stream",
     "name": "stdout",
     "text": "---------------------------\naccuracy: 70.89%\n---------------------------\n"
    },
    {
     "output_type": "display_data",
     "data": {
      "text/plain": "<IPython.core.display.HTML object>",
      "text/html": "\n                Logging results to <a href=\"https://wandb.com\" target=\"_blank\">Weights & Biases</a> <a href=\"https://docs.wandb.com/integrations/jupyter.html\" target=\"_blank\">(Documentation)</a>.<br/>\n                Project page: <a href=\"https://app.wandb.ai/ajay340/asnm-tun\" target=\"_blank\">https://app.wandb.ai/ajay340/asnm-tun</a><br/>\n                Run page: <a href=\"https://app.wandb.ai/ajay340/asnm-tun/runs/34ea5gol\" target=\"_blank\">https://app.wandb.ai/ajay340/asnm-tun/runs/34ea5gol</a><br/>\n            "
     },
     "metadata": {}
    },
    {
     "output_type": "stream",
     "name": "stdout",
     "text": "---------------------------\naccuracy: 87.34%\n---------------------------\n"
    },
    {
     "output_type": "display_data",
     "data": {
      "text/plain": "<IPython.core.display.HTML object>",
      "text/html": "\n                Logging results to <a href=\"https://wandb.com\" target=\"_blank\">Weights & Biases</a> <a href=\"https://docs.wandb.com/integrations/jupyter.html\" target=\"_blank\">(Documentation)</a>.<br/>\n                Project page: <a href=\"https://app.wandb.ai/ajay340/asnm-tun\" target=\"_blank\">https://app.wandb.ai/ajay340/asnm-tun</a><br/>\n                Run page: <a href=\"https://app.wandb.ai/ajay340/asnm-tun/runs/skzj2re5\" target=\"_blank\">https://app.wandb.ai/ajay340/asnm-tun/runs/skzj2re5</a><br/>\n            "
     },
     "metadata": {}
    },
    {
     "output_type": "stream",
     "name": "stdout",
     "text": "---------------------------\naccuracy: 84.62%\n---------------------------\n81.73% (+/- 6.32%)\n"
    }
   ],
   "source": [
    "cvscores = []\n",
    "for train, test in kfold.split(X, y):\n",
    "        wandb.init(project=\"asnm-tun\")\n",
    "        model = Sequential()\n",
    "        model.add(Dense(X.shape[1]+1, input_dim=X.shape[1], activation='relu'))\n",
    "        model.add(Dense(40,activation='relu'))\n",
    "        model.add(Dense(60,activation='relu'))\n",
    "        model.add(Dense(30,activation='relu'))\n",
    "        model.add(Dense(10,activation='relu'))\n",
    "        model.add(Dense(y.shape[1], activation='softmax'))\n",
    "        opt = keras.optimizers.Adam(learning_rate=0.009)\n",
    "        model.compile(loss='categorical_crossentropy', optimizer='adam', metrics=['accuracy'])\n",
    "        model.fit(\n",
    "                X[train],\n",
    "                y[train],\n",
    "                epochs=1200,\n",
    "                verbose=0,\n",
    "                batch_size=10,\n",
    "                callbacks=[WandbCallback()]\n",
    "        )\n",
    "        model.save(\"model.h5\")\n",
    "        open(\"model.json\", \"w\").write(model.to_json())\n",
    "        scores = model.evaluate(X[test], y[test], verbose=0)\n",
    "        cvscores.append(scores[1] * 100)\n",
    "        wandb.save('model.h5')\n",
    "        wandb.save('model.json')\n",
    "        \n",
    "        print(\"---------------------------\")\n",
    "        print(\"%s: %.2f%%\" % (model.metrics_names[1], scores[1]*100))\n",
    "        print(\"---------------------------\")\n",
    "print(\"%.2f%% (+/- %.2f%%)\" % (np.mean(cvscores), np.std(cvscores)))"
   ]
  },
  {
   "cell_type": "markdown",
   "metadata": {},
   "source": [
    "### Building baseline model with SGD optimizer"
   ]
  },
  {
   "cell_type": "code",
   "execution_count": 9,
   "metadata": {
    "tags": []
   },
   "outputs": [
    {
     "output_type": "display_data",
     "data": {
      "text/plain": "<IPython.core.display.HTML object>",
      "text/html": "\n                Logging results to <a href=\"https://wandb.com\" target=\"_blank\">Weights & Biases</a> <a href=\"https://docs.wandb.com/integrations/jupyter.html\" target=\"_blank\">(Documentation)</a>.<br/>\n                Project page: <a href=\"https://app.wandb.ai/ajay340/asnm-tun\" target=\"_blank\">https://app.wandb.ai/ajay340/asnm-tun</a><br/>\n                Run page: <a href=\"https://app.wandb.ai/ajay340/asnm-tun/runs/3ate0mgo\" target=\"_blank\">https://app.wandb.ai/ajay340/asnm-tun/runs/3ate0mgo</a><br/>\n            "
     },
     "metadata": {}
    },
    {
     "output_type": "stream",
     "name": "stdout",
     "text": "---------------------------\naccuracy: 75.95%\n---------------------------\n"
    },
    {
     "output_type": "display_data",
     "data": {
      "text/plain": "<IPython.core.display.HTML object>",
      "text/html": "\n                Logging results to <a href=\"https://wandb.com\" target=\"_blank\">Weights & Biases</a> <a href=\"https://docs.wandb.com/integrations/jupyter.html\" target=\"_blank\">(Documentation)</a>.<br/>\n                Project page: <a href=\"https://app.wandb.ai/ajay340/asnm-tun\" target=\"_blank\">https://app.wandb.ai/ajay340/asnm-tun</a><br/>\n                Run page: <a href=\"https://app.wandb.ai/ajay340/asnm-tun/runs/rcxrtcz9\" target=\"_blank\">https://app.wandb.ai/ajay340/asnm-tun/runs/rcxrtcz9</a><br/>\n            "
     },
     "metadata": {}
    },
    {
     "output_type": "stream",
     "name": "stdout",
     "text": "---------------------------\naccuracy: 65.82%\n---------------------------\n"
    },
    {
     "output_type": "display_data",
     "data": {
      "text/plain": "<IPython.core.display.HTML object>",
      "text/html": "\n                Logging results to <a href=\"https://wandb.com\" target=\"_blank\">Weights & Biases</a> <a href=\"https://docs.wandb.com/integrations/jupyter.html\" target=\"_blank\">(Documentation)</a>.<br/>\n                Project page: <a href=\"https://app.wandb.ai/ajay340/asnm-tun\" target=\"_blank\">https://app.wandb.ai/ajay340/asnm-tun</a><br/>\n                Run page: <a href=\"https://app.wandb.ai/ajay340/asnm-tun/runs/1u3uadmc\" target=\"_blank\">https://app.wandb.ai/ajay340/asnm-tun/runs/1u3uadmc</a><br/>\n            "
     },
     "metadata": {}
    },
    {
     "output_type": "stream",
     "name": "stdout",
     "text": "---------------------------\naccuracy: 60.76%\n---------------------------\n"
    },
    {
     "output_type": "display_data",
     "data": {
      "text/plain": "<IPython.core.display.HTML object>",
      "text/html": "\n                Logging results to <a href=\"https://wandb.com\" target=\"_blank\">Weights & Biases</a> <a href=\"https://docs.wandb.com/integrations/jupyter.html\" target=\"_blank\">(Documentation)</a>.<br/>\n                Project page: <a href=\"https://app.wandb.ai/ajay340/asnm-tun\" target=\"_blank\">https://app.wandb.ai/ajay340/asnm-tun</a><br/>\n                Run page: <a href=\"https://app.wandb.ai/ajay340/asnm-tun/runs/1mvh64p0\" target=\"_blank\">https://app.wandb.ai/ajay340/asnm-tun/runs/1mvh64p0</a><br/>\n            "
     },
     "metadata": {}
    },
    {
     "output_type": "stream",
     "name": "stdout",
     "text": "---------------------------\naccuracy: 63.29%\n---------------------------\n"
    },
    {
     "output_type": "display_data",
     "data": {
      "text/plain": "<IPython.core.display.HTML object>",
      "text/html": "\n                Logging results to <a href=\"https://wandb.com\" target=\"_blank\">Weights & Biases</a> <a href=\"https://docs.wandb.com/integrations/jupyter.html\" target=\"_blank\">(Documentation)</a>.<br/>\n                Project page: <a href=\"https://app.wandb.ai/ajay340/asnm-tun\" target=\"_blank\">https://app.wandb.ai/ajay340/asnm-tun</a><br/>\n                Run page: <a href=\"https://app.wandb.ai/ajay340/asnm-tun/runs/1bgah9yv\" target=\"_blank\">https://app.wandb.ai/ajay340/asnm-tun/runs/1bgah9yv</a><br/>\n            "
     },
     "metadata": {}
    },
    {
     "output_type": "stream",
     "name": "stdout",
     "text": "---------------------------\naccuracy: 76.92%\n---------------------------\n68.55% (+/- 6.64%)\n"
    }
   ],
   "source": [
    "cvscores = []\n",
    "for train, test in kfold.split(X, y):\n",
    "        wandb.init(project=\"asnm-tun\")\n",
    "        model = Sequential()\n",
    "        model.add(Dense(X.shape[1]+1, input_dim=X.shape[1], activation='relu'))\n",
    "        model.add(Dropout(0.2))\n",
    "        model.add(Dense(40,activation='relu'))\n",
    "        model.add(Dropout(0.2))\n",
    "        model.add(Dense(60,activation='relu'))\n",
    "        model.add(Dropout(0.2))\n",
    "        model.add(Dense(30,activation='relu'))\n",
    "        model.add(Dropout(0.2))\n",
    "        model.add(Dense(10,activation='relu'))\n",
    "        model.add(Dropout(0.2))\n",
    "        model.add(Dense(y.shape[1], activation='softmax'))\n",
    "        opt = SGD(lr=0.01, momentum=0.75)\n",
    "        model.compile(loss='categorical_crossentropy', optimizer=opt, metrics=['accuracy'])\n",
    "        model.fit(\n",
    "                X[train],\n",
    "                y[train],\n",
    "                epochs=1000,\n",
    "                verbose=0,\n",
    "                batch_size=10,\n",
    "                callbacks=[WandbCallback()]\n",
    "        )\n",
    "        model.save(os.path.join(wandb.run.dir, \"model.h5\")) \n",
    "        open(wandb.run.dir + \"/model.json\", \"w\").write(model.to_json())\n",
    "        scores = model.evaluate(X[test], y[test], verbose=0)\n",
    "        cvscores.append(scores[1] * 100)\n",
    "\n",
    "        print(\"---------------------------\")\n",
    "        print(\"%s: %.2f%%\" % (model.metrics_names[1], scores[1]*100))\n",
    "        print(\"---------------------------\")\n",
    "print(\"%.2f%% (+/- %.2f%%)\" % (np.mean(cvscores), np.std(cvscores)))"
   ]
  },
  {
   "cell_type": "markdown",
   "metadata": {},
   "source": [
    "### Building baseline model with Decision Tree"
   ]
  },
  {
   "cell_type": "code",
   "execution_count": 10,
   "metadata": {
    "tags": []
   },
   "outputs": [
    {
     "output_type": "stream",
     "name": "stdout",
     "text": "---------------------------\naccuracy: 92.41%\n---------------------------\n---------------------------\naccuracy: 83.54%\n---------------------------\n---------------------------\naccuracy: 83.54%\n---------------------------\n---------------------------\naccuracy: 89.87%\n---------------------------\n---------------------------\naccuracy: 84.62%\n---------------------------\n86.80% (+/- 3.66%)\n"
    }
   ],
   "source": [
    "cvscores = []\n",
    "for train, test in kfold.split(X, y):\n",
    "    dtree_model = DecisionTreeClassifier(max_depth = 1000).fit(X[train], y[train]) \n",
    "    scores = dtree_model.score(X[test], y[test])\n",
    "    cvscores.append(scores * 100)\n",
    "    print(\"---------------------------\")\n",
    "    print(\"accuracy: %.2f%%\" % (scores*100))\n",
    "    print(\"---------------------------\")\n",
    "print(\"%.2f%% (+/- %.2f%%)\" % (np.mean(cvscores), np.std(cvscores)))"
   ]
  },
  {
   "cell_type": "markdown",
   "metadata": {},
   "source": [
    "### Building baseline model with KNN"
   ]
  },
  {
   "cell_type": "code",
   "execution_count": 11,
   "metadata": {
    "tags": []
   },
   "outputs": [
    {
     "output_type": "stream",
     "name": "stdout",
     "text": "---------------------------\naccuracy: 91.14%\n---------------------------\n---------------------------\naccuracy: 78.48%\n---------------------------\n---------------------------\naccuracy: 75.95%\n---------------------------\n---------------------------\naccuracy: 81.01%\n---------------------------\n---------------------------\naccuracy: 84.62%\n---------------------------\n82.24% (+/- 5.29%)\n"
    }
   ],
   "source": [
    "cvscores = []\n",
    "for train, test in kfold.split(X, y):\n",
    "    knn = KNeighborsClassifier(n_neighbors = 3).fit(X[train], y[train]) \n",
    "    scores = knn.score(X[test], y[test]) \n",
    "    cvscores.append(scores * 100)\n",
    "    print(\"---------------------------\")\n",
    "    print(\"accuracy: %.2f%%\" % (scores*100))\n",
    "    print(\"---------------------------\")\n",
    "print(\"%.2f%% (+/- %.2f%%)\" % (np.mean(cvscores), np.std(cvscores)))"
   ]
  },
  {
   "cell_type": "markdown",
   "metadata": {},
   "source": [
    "### Model baseline with Random Forest"
   ]
  },
  {
   "cell_type": "code",
   "execution_count": 12,
   "metadata": {
    "tags": []
   },
   "outputs": [
    {
     "output_type": "stream",
     "name": "stdout",
     "text": "---------------------------\naccuracy: 93.67%\n---------------------------\n---------------------------\naccuracy: 82.28%\n---------------------------\n---------------------------\naccuracy: 74.68%\n---------------------------\n---------------------------\naccuracy: 86.08%\n---------------------------\n---------------------------\naccuracy: 85.90%\n---------------------------\n84.52% (+/- 6.16%)\n"
    }
   ],
   "source": [
    "from sklearn.ensemble import RandomForestClassifier\n",
    "cvscores = []\n",
    "for train, test in kfold.split(X, y):\n",
    "    rfc = RandomForestClassifier(max_depth=1000).fit(X[train], y[train])  \n",
    "    scores = rfc.score(X[test], y[test]) \n",
    "    cvscores.append(scores * 100)\n",
    "    print(\"---------------------------\")\n",
    "    print(\"accuracy: %.2f%%\" % (scores*100))\n",
    "    print(\"---------------------------\")\n",
    "print(\"%.2f%% (+/- %.2f%%)\" % (np.mean(cvscores), np.std(cvscores)))\n"
   ]
  },
  {
   "cell_type": "markdown",
   "metadata": {},
   "source": [
    "### Building baseline model with SVC"
   ]
  },
  {
   "cell_type": "code",
   "execution_count": 13,
   "metadata": {
    "tags": []
   },
   "outputs": [
    {
     "output_type": "stream",
     "name": "stdout",
     "text": "---------------------------\naccuracy: 17.72%\n---------------------------\n---------------------------\naccuracy: 5.06%\n---------------------------\n---------------------------\naccuracy: 13.92%\n---------------------------\n---------------------------\naccuracy: 18.99%\n---------------------------\n---------------------------\naccuracy: 19.23%\n---------------------------\n14.99% (+/- 5.31%)\n"
    }
   ],
   "source": [
    "cvscores = []\n",
    "for train, test in kfold.split(X, y):\n",
    "    svc_model = OneVsRestClassifier(SVC(kernel = 'linear')).fit(X[train], y[train]) \n",
    "    scores = svc_model.score(X[test], y[test])\n",
    "    cvscores.append(scores * 100)\n",
    "    print(\"---------------------------\")\n",
    "    print(\"accuracy: %.2f%%\" % (scores*100))\n",
    "    print(\"---------------------------\")\n",
    "print(\"%.2f%% (+/- %.2f%%)\" % (np.mean(cvscores), np.std(cvscores)))\n"
   ]
  }
 ],
 "metadata": {
  "kernelspec": {
   "display_name": "Python 3",
   "language": "python",
   "name": "python3"
  },
  "language_info": {
   "codemirror_mode": {
    "name": "ipython",
    "version": 3
   },
   "file_extension": ".py",
   "mimetype": "text/x-python",
   "name": "python",
   "nbconvert_exporter": "python",
   "pygments_lexer": "ipython3",
   "version": "3.6.9-final"
  }
 },
 "nbformat": 4,
 "nbformat_minor": 2
}