{
 "cells": [
  {
   "cell_type": "code",
   "execution_count": 1,
   "metadata": {},
   "outputs": [
    {
     "name": "stdout",
     "output_type": "stream",
     "text": [
      "Requirement already satisfied: pandas-profiling in c:\\users\\cookdavi\\appdata\\roaming\\python\\python37\\site-packages (2.5.0)\n",
      "Requirement already satisfied: scipy>=1.4.1 in c:\\users\\cookdavi\\appdata\\roaming\\python\\python37\\site-packages (from pandas-profiling) (1.4.1)\n",
      "Requirement already satisfied: kaggle==1.5.6 in c:\\users\\cookdavi\\appdata\\roaming\\python\\python37\\site-packages (from pandas-profiling) (1.5.6)\n",
      "Requirement already satisfied: ipywidgets==7.5.1 in c:\\users\\cookdavi\\appdata\\roaming\\python\\python37\\site-packages (from pandas-profiling) (7.5.1)\n",
      "Requirement already satisfied: numpy>=1.16.0 in c:\\users\\cookdavi\\appdata\\local\\programs\\python\\python37-32\\lib\\site-packages (from pandas-profiling) (1.18.1)\n",
      "Requirement already satisfied: requests==2.22.0 in c:\\users\\cookdavi\\appdata\\roaming\\python\\python37\\site-packages (from pandas-profiling) (2.22.0)\n",
      "Requirement already satisfied: confuse==1.0.0 in c:\\users\\cookdavi\\appdata\\roaming\\python\\python37\\site-packages (from pandas-profiling) (1.0.0)\n",
      "Requirement already satisfied: visions==0.2.2 in c:\\users\\cookdavi\\appdata\\roaming\\python\\python37\\site-packages (from pandas-profiling) (0.2.2)\n",
      "Requirement already satisfied: pandas==0.25.3 in c:\\users\\cookdavi\\appdata\\local\\programs\\python\\python37-32\\lib\\site-packages (from pandas-profiling) (0.25.3)\n",
      "Requirement already satisfied: htmlmin==0.1.12 in c:\\users\\cookdavi\\appdata\\roaming\\python\\python37\\site-packages (from pandas-profiling) (0.1.12)\n",
      "Requirement already satisfied: missingno==0.4.2 in c:\\users\\cookdavi\\appdata\\roaming\\python\\python37\\site-packages (from pandas-profiling) (0.4.2)\n",
      "Requirement already satisfied: phik==0.9.9 in c:\\users\\cookdavi\\appdata\\roaming\\python\\python37\\site-packages (from pandas-profiling) (0.9.9)\n",
      "Requirement already satisfied: astropy>=3.2.3 in c:\\users\\cookdavi\\appdata\\roaming\\python\\python37\\site-packages (from pandas-profiling) (4.0)\n",
      "Requirement already satisfied: tangled-up-in-unicode==0.0.3 in c:\\users\\cookdavi\\appdata\\local\\programs\\python\\python37-32\\lib\\site-packages (from pandas-profiling) (0.0.3)\n",
      "Requirement already satisfied: tqdm==4.42.0 in c:\\users\\cookdavi\\appdata\\roaming\\python\\python37\\site-packages (from pandas-profiling) (4.42.0)\n",
      "Requirement already satisfied: matplotlib>=3.0.3 in c:\\users\\cookdavi\\appdata\\roaming\\python\\python37\\site-packages (from pandas-profiling) (3.1.3)\n",
      "Requirement already satisfied: jinja2==2.11.1 in c:\\users\\cookdavi\\appdata\\roaming\\python\\python37\\site-packages (from pandas-profiling) (2.11.1)\n",
      "Requirement already satisfied: urllib3<1.25,>=1.21.1 in c:\\users\\cookdavi\\appdata\\local\\programs\\python\\python37-32\\lib\\site-packages (from kaggle==1.5.6->pandas-profiling) (1.23)\n",
      "Requirement already satisfied: python-dateutil in c:\\users\\cookdavi\\appdata\\local\\programs\\python\\python37-32\\lib\\site-packages (from kaggle==1.5.6->pandas-profiling) (2.7.3)\n",
      "Requirement already satisfied: python-slugify in c:\\users\\cookdavi\\appdata\\roaming\\python\\python37\\site-packages (from kaggle==1.5.6->pandas-profiling) (4.0.0)\n",
      "Requirement already satisfied: six>=1.10 in c:\\users\\cookdavi\\appdata\\local\\programs\\python\\python37-32\\lib\\site-packages (from kaggle==1.5.6->pandas-profiling) (1.11.0)\n",
      "Requirement already satisfied: certifi in c:\\users\\cookdavi\\appdata\\local\\programs\\python\\python37-32\\lib\\site-packages (from kaggle==1.5.6->pandas-profiling) (2018.8.24)\n",
      "Requirement already satisfied: ipykernel>=4.5.1 in c:\\users\\cookdavi\\appdata\\local\\programs\\python\\python37-32\\lib\\site-packages (from ipywidgets==7.5.1->pandas-profiling) (4.9.0)\n",
      "Requirement already satisfied: widgetsnbextension~=3.5.0 in c:\\users\\cookdavi\\appdata\\roaming\\python\\python37\\site-packages (from ipywidgets==7.5.1->pandas-profiling) (3.5.1)\n",
      "Requirement already satisfied: nbformat>=4.2.0 in c:\\users\\cookdavi\\appdata\\local\\programs\\python\\python37-32\\lib\\site-packages (from ipywidgets==7.5.1->pandas-profiling) (4.4.0)\n",
      "Requirement already satisfied: ipython>=4.0.0; python_version >= \"3.3\" in c:\\users\\cookdavi\\appdata\\local\\programs\\python\\python37-32\\lib\\site-packages (from ipywidgets==7.5.1->pandas-profiling) (6.5.0)\n",
      "Requirement already satisfied: traitlets>=4.3.1 in c:\\users\\cookdavi\\appdata\\local\\programs\\python\\python37-32\\lib\\site-packages (from ipywidgets==7.5.1->pandas-profiling) (4.3.2)\n",
      "Requirement already satisfied: chardet<3.1.0,>=3.0.2 in c:\\users\\cookdavi\\appdata\\local\\programs\\python\\python37-32\\lib\\site-packages (from requests==2.22.0->pandas-profiling) (3.0.4)\n",
      "Requirement already satisfied: idna<2.9,>=2.5 in c:\\users\\cookdavi\\appdata\\local\\programs\\python\\python37-32\\lib\\site-packages (from requests==2.22.0->pandas-profiling) (2.7)\n",
      "Requirement already satisfied: pyyaml in c:\\users\\cookdavi\\appdata\\local\\programs\\python\\python37-32\\lib\\site-packages (from confuse==1.0.0->pandas-profiling) (3.13)\n",
      "Requirement already satisfied: attr in c:\\users\\cookdavi\\appdata\\roaming\\python\\python37\\site-packages (from visions==0.2.2->pandas-profiling) (0.3.1)\n",
      "Requirement already satisfied: networkx in c:\\users\\cookdavi\\appdata\\roaming\\python\\python37\\site-packages (from visions==0.2.2->pandas-profiling) (2.4)\n",
      "Requirement already satisfied: pytz>=2017.2 in c:\\users\\cookdavi\\appdata\\local\\programs\\python\\python37-32\\lib\\site-packages (from pandas==0.25.3->pandas-profiling) (2018.5)\n",
      "Requirement already satisfied: seaborn in c:\\users\\cookdavi\\appdata\\local\\programs\\python\\python37-32\\lib\\site-packages (from missingno==0.4.2->pandas-profiling) (0.9.0)\n",
      "Requirement already satisfied: pytest>=4.0.2 in c:\\users\\cookdavi\\appdata\\roaming\\python\\python37\\site-packages (from phik==0.9.9->pandas-profiling) (5.3.5)\n",
      "Requirement already satisfied: pytest-pylint>=0.13.0 in c:\\users\\cookdavi\\appdata\\roaming\\python\\python37\\site-packages (from phik==0.9.9->pandas-profiling) (0.15.0)\n",
      "Requirement already satisfied: nbconvert>=5.3.1 in c:\\users\\cookdavi\\appdata\\local\\programs\\python\\python37-32\\lib\\site-packages (from phik==0.9.9->pandas-profiling) (5.4.0)\n",
      "Requirement already satisfied: numba>=0.38.1 in c:\\users\\cookdavi\\appdata\\roaming\\python\\python37\\site-packages (from phik==0.9.9->pandas-profiling) (0.48.0)\n",
      "Requirement already satisfied: joblib>=0.14.1 in c:\\users\\cookdavi\\appdata\\roaming\\python\\python37\\site-packages (from phik==0.9.9->pandas-profiling) (0.14.1)\n",
      "Requirement already satisfied: jupyter-client>=5.2.3 in c:\\users\\cookdavi\\appdata\\local\\programs\\python\\python37-32\\lib\\site-packages (from phik==0.9.9->pandas-profiling) (5.2.3)\n",
      "Requirement already satisfied: pyparsing!=2.0.4,!=2.1.2,!=2.1.6,>=2.0.1 in c:\\users\\cookdavi\\appdata\\local\\programs\\python\\python37-32\\lib\\site-packages (from matplotlib>=3.0.3->pandas-profiling) (2.2.2)\n",
      "Requirement already satisfied: kiwisolver>=1.0.1 in c:\\users\\cookdavi\\appdata\\local\\programs\\python\\python37-32\\lib\\site-packages (from matplotlib>=3.0.3->pandas-profiling) (1.0.1)\n",
      "Requirement already satisfied: cycler>=0.10 in c:\\users\\cookdavi\\appdata\\local\\programs\\python\\python37-32\\lib\\site-packages (from matplotlib>=3.0.3->pandas-profiling) (0.10.0)\n",
      "Requirement already satisfied: MarkupSafe>=0.23 in c:\\users\\cookdavi\\appdata\\local\\programs\\python\\python37-32\\lib\\site-packages (from jinja2==2.11.1->pandas-profiling) (1.0)\n",
      "Requirement already satisfied: text-unidecode>=1.3 in c:\\users\\cookdavi\\appdata\\roaming\\python\\python37\\site-packages (from python-slugify->kaggle==1.5.6->pandas-profiling) (1.3)\n",
      "Requirement already satisfied: tornado>=4.0 in c:\\users\\cookdavi\\appdata\\local\\programs\\python\\python37-32\\lib\\site-packages (from ipykernel>=4.5.1->ipywidgets==7.5.1->pandas-profiling) (5.1.1)\n",
      "Requirement already satisfied: notebook>=4.4.1 in c:\\users\\cookdavi\\appdata\\local\\programs\\python\\python37-32\\lib\\site-packages (from widgetsnbextension~=3.5.0->ipywidgets==7.5.1->pandas-profiling) (5.7.5)\n",
      "Requirement already satisfied: jsonschema!=2.5.0,>=2.4 in c:\\users\\cookdavi\\appdata\\local\\programs\\python\\python37-32\\lib\\site-packages (from nbformat>=4.2.0->ipywidgets==7.5.1->pandas-profiling) (2.6.0)\n",
      "Requirement already satisfied: ipython-genutils in c:\\users\\cookdavi\\appdata\\local\\programs\\python\\python37-32\\lib\\site-packages (from nbformat>=4.2.0->ipywidgets==7.5.1->pandas-profiling) (0.2.0)\n",
      "Requirement already satisfied: jupyter-core in c:\\users\\cookdavi\\appdata\\local\\programs\\python\\python37-32\\lib\\site-packages (from nbformat>=4.2.0->ipywidgets==7.5.1->pandas-profiling) (4.4.0)\n",
      "Requirement already satisfied: pickleshare in c:\\users\\cookdavi\\appdata\\local\\programs\\python\\python37-32\\lib\\site-packages (from ipython>=4.0.0; python_version >= \"3.3\"->ipywidgets==7.5.1->pandas-profiling) (0.7.4)\n",
      "Requirement already satisfied: prompt-toolkit<2.0.0,>=1.0.15 in c:\\users\\cookdavi\\appdata\\local\\programs\\python\\python37-32\\lib\\site-packages (from ipython>=4.0.0; python_version >= \"3.3\"->ipywidgets==7.5.1->pandas-profiling) (1.0.15)\n",
      "Requirement already satisfied: backcall in c:\\users\\cookdavi\\appdata\\local\\programs\\python\\python37-32\\lib\\site-packages (from ipython>=4.0.0; python_version >= \"3.3\"->ipywidgets==7.5.1->pandas-profiling) (0.1.0)\n",
      "Requirement already satisfied: simplegeneric>0.8 in c:\\users\\cookdavi\\appdata\\local\\programs\\python\\python37-32\\lib\\site-packages (from ipython>=4.0.0; python_version >= \"3.3\"->ipywidgets==7.5.1->pandas-profiling) (0.8.1)\n",
      "Requirement already satisfied: colorama; sys_platform == \"win32\" in c:\\users\\cookdavi\\appdata\\local\\programs\\python\\python37-32\\lib\\site-packages (from ipython>=4.0.0; python_version >= \"3.3\"->ipywidgets==7.5.1->pandas-profiling) (0.3.9)\n",
      "Requirement already satisfied: jedi>=0.10 in c:\\users\\cookdavi\\appdata\\local\\programs\\python\\python37-32\\lib\\site-packages (from ipython>=4.0.0; python_version >= \"3.3\"->ipywidgets==7.5.1->pandas-profiling) (0.12.1)\n",
      "Requirement already satisfied: pygments in c:\\users\\cookdavi\\appdata\\local\\programs\\python\\python37-32\\lib\\site-packages (from ipython>=4.0.0; python_version >= \"3.3\"->ipywidgets==7.5.1->pandas-profiling) (2.2.0)\n",
      "Requirement already satisfied: decorator in c:\\users\\cookdavi\\appdata\\local\\programs\\python\\python37-32\\lib\\site-packages (from ipython>=4.0.0; python_version >= \"3.3\"->ipywidgets==7.5.1->pandas-profiling) (4.3.0)\n",
      "Requirement already satisfied: setuptools>=18.5 in c:\\users\\cookdavi\\appdata\\local\\programs\\python\\python37-32\\lib\\site-packages (from ipython>=4.0.0; python_version >= \"3.3\"->ipywidgets==7.5.1->pandas-profiling) (39.0.1)\n",
      "Requirement already satisfied: attrs>=17.4.0 in c:\\users\\cookdavi\\appdata\\roaming\\python\\python37\\site-packages (from pytest>=4.0.2->phik==0.9.9->pandas-profiling) (19.3.0)\n",
      "Requirement already satisfied: packaging in c:\\users\\cookdavi\\appdata\\roaming\\python\\python37\\site-packages (from pytest>=4.0.2->phik==0.9.9->pandas-profiling) (20.1)\n",
      "Requirement already satisfied: py>=1.5.0 in c:\\users\\cookdavi\\appdata\\roaming\\python\\python37\\site-packages (from pytest>=4.0.2->phik==0.9.9->pandas-profiling) (1.8.1)\n",
      "Requirement already satisfied: more-itertools>=4.0.0 in c:\\users\\cookdavi\\appdata\\roaming\\python\\python37\\site-packages (from pytest>=4.0.2->phik==0.9.9->pandas-profiling) (8.2.0)\n",
      "Requirement already satisfied: importlib-metadata>=0.12; python_version < \"3.8\" in c:\\users\\cookdavi\\appdata\\roaming\\python\\python37\\site-packages (from pytest>=4.0.2->phik==0.9.9->pandas-profiling) (1.5.0)\n",
      "Requirement already satisfied: wcwidth in c:\\users\\cookdavi\\appdata\\local\\programs\\python\\python37-32\\lib\\site-packages (from pytest>=4.0.2->phik==0.9.9->pandas-profiling) (0.1.7)\n",
      "Requirement already satisfied: pluggy<1.0,>=0.12 in c:\\users\\cookdavi\\appdata\\roaming\\python\\python37\\site-packages (from pytest>=4.0.2->phik==0.9.9->pandas-profiling) (0.13.1)\n",
      "Requirement already satisfied: atomicwrites>=1.0; sys_platform == \"win32\" in c:\\users\\cookdavi\\appdata\\roaming\\python\\python37\\site-packages (from pytest>=4.0.2->phik==0.9.9->pandas-profiling) (1.3.0)\n",
      "Requirement already satisfied: pylint>=2.0.0 in c:\\users\\cookdavi\\appdata\\roaming\\python\\python37\\site-packages (from pytest-pylint>=0.13.0->phik==0.9.9->pandas-profiling) (2.2.2)\n",
      "Requirement already satisfied: pandocfilters>=1.4.1 in c:\\users\\cookdavi\\appdata\\local\\programs\\python\\python37-32\\lib\\site-packages (from nbconvert>=5.3.1->phik==0.9.9->pandas-profiling) (1.4.2)\n",
      "Requirement already satisfied: defusedxml in c:\\users\\cookdavi\\appdata\\local\\programs\\python\\python37-32\\lib\\site-packages (from nbconvert>=5.3.1->phik==0.9.9->pandas-profiling) (0.5.0)\n",
      "Requirement already satisfied: mistune>=0.8.1 in c:\\users\\cookdavi\\appdata\\local\\programs\\python\\python37-32\\lib\\site-packages (from nbconvert>=5.3.1->phik==0.9.9->pandas-profiling) (0.8.4)\n",
      "Requirement already satisfied: testpath in c:\\users\\cookdavi\\appdata\\local\\programs\\python\\python37-32\\lib\\site-packages (from nbconvert>=5.3.1->phik==0.9.9->pandas-profiling) (0.4.2)\n",
      "Requirement already satisfied: bleach in c:\\users\\cookdavi\\appdata\\local\\programs\\python\\python37-32\\lib\\site-packages (from nbconvert>=5.3.1->phik==0.9.9->pandas-profiling) (3.0.2)\n",
      "Requirement already satisfied: entrypoints>=0.2.2 in c:\\users\\cookdavi\\appdata\\local\\programs\\python\\python37-32\\lib\\site-packages (from nbconvert>=5.3.1->phik==0.9.9->pandas-profiling) (0.2.3)\n",
      "Requirement already satisfied: llvmlite<0.32.0,>=0.31.0dev0 in c:\\users\\cookdavi\\appdata\\roaming\\python\\python37\\site-packages (from numba>=0.38.1->phik==0.9.9->pandas-profiling) (0.31.0)\n",
      "Requirement already satisfied: pyzmq>=13 in c:\\users\\cookdavi\\appdata\\local\\programs\\python\\python37-32\\lib\\site-packages (from jupyter-client>=5.2.3->phik==0.9.9->pandas-profiling) (17.1.2)\n",
      "Requirement already satisfied: Send2Trash in c:\\users\\cookdavi\\appdata\\local\\programs\\python\\python37-32\\lib\\site-packages (from notebook>=4.4.1->widgetsnbextension~=3.5.0->ipywidgets==7.5.1->pandas-profiling) (1.5.0)\n",
      "Requirement already satisfied: terminado>=0.8.1 in c:\\users\\cookdavi\\appdata\\local\\programs\\python\\python37-32\\lib\\site-packages (from notebook>=4.4.1->widgetsnbextension~=3.5.0->ipywidgets==7.5.1->pandas-profiling) (0.8.1)\n",
      "Requirement already satisfied: prometheus-client in c:\\users\\cookdavi\\appdata\\local\\programs\\python\\python37-32\\lib\\site-packages (from notebook>=4.4.1->widgetsnbextension~=3.5.0->ipywidgets==7.5.1->pandas-profiling) (0.4.2)\n",
      "Requirement already satisfied: parso>=0.3.0 in c:\\users\\cookdavi\\appdata\\local\\programs\\python\\python37-32\\lib\\site-packages (from jedi>=0.10->ipython>=4.0.0; python_version >= \"3.3\"->ipywidgets==7.5.1->pandas-profiling) (0.3.1)\n",
      "Requirement already satisfied: zipp>=0.5 in c:\\users\\cookdavi\\appdata\\roaming\\python\\python37\\site-packages (from importlib-metadata>=0.12; python_version < \"3.8\"->pytest>=4.0.2->phik==0.9.9->pandas-profiling) (3.0.0)\n",
      "Requirement already satisfied: mccabe in c:\\users\\cookdavi\\appdata\\roaming\\python\\python37\\site-packages (from pylint>=2.0.0->pytest-pylint>=0.13.0->phik==0.9.9->pandas-profiling) (0.6.1)\n",
      "Requirement already satisfied: isort>=4.2.5 in c:\\users\\cookdavi\\appdata\\roaming\\python\\python37\\site-packages (from pylint>=2.0.0->pytest-pylint>=0.13.0->phik==0.9.9->pandas-profiling) (4.3.4)\n",
      "Requirement already satisfied: astroid>=2.0.0 in c:\\users\\cookdavi\\appdata\\roaming\\python\\python37\\site-packages (from pylint>=2.0.0->pytest-pylint>=0.13.0->phik==0.9.9->pandas-profiling) (2.1.0)\n",
      "Requirement already satisfied: webencodings in c:\\users\\cookdavi\\appdata\\local\\programs\\python\\python37-32\\lib\\site-packages (from bleach->nbconvert>=5.3.1->phik==0.9.9->pandas-profiling) (0.5.1)\n",
      "Requirement already satisfied: pywinpty>=0.5; os_name == \"nt\" in c:\\users\\cookdavi\\appdata\\local\\programs\\python\\python37-32\\lib\\site-packages (from terminado>=0.8.1->notebook>=4.4.1->widgetsnbextension~=3.5.0->ipywidgets==7.5.1->pandas-profiling) (0.5.4)\n",
      "Requirement already satisfied: lazy-object-proxy in c:\\users\\cookdavi\\appdata\\roaming\\python\\python37\\site-packages (from astroid>=2.0.0->pylint>=2.0.0->pytest-pylint>=0.13.0->phik==0.9.9->pandas-profiling) (1.3.1)\n",
      "Requirement already satisfied: wrapt in c:\\users\\cookdavi\\appdata\\roaming\\python\\python37\\site-packages (from astroid>=2.0.0->pylint>=2.0.0->pytest-pylint>=0.13.0->phik==0.9.9->pandas-profiling) (1.10.11)\n"
     ]
    },
    {
     "name": "stderr",
     "output_type": "stream",
     "text": [
      "WARNING: You are using pip version 19.3.1; however, version 20.0.2 is available.\n",
      "You should consider upgrading via the 'python -m pip install --upgrade pip' command.\n"
     ]
    }
   ],
   "source": [
    "import sys\n",
    "!{sys.executable} -m pip install pandas-profiling --user"
   ]
  },
  {
   "cell_type": "code",
   "execution_count": 2,
   "metadata": {
    "scrolled": true
   },
   "outputs": [],
   "source": [
    "import os\n",
    "import pandas as pd\n",
    "import numpy as np\n",
    "import matplotlib.pyplot as plt\n",
    "from pandas_profiling import ProfileReport\n",
    "from sklearn.preprocessing import MinMaxScaler"
   ]
  },
  {
   "cell_type": "code",
   "execution_count": 3,
   "metadata": {},
   "outputs": [],
   "source": [
    "df = pd.read_csv(\"ASNM-datasets/ASNM-TUN.csv\")"
   ]
  },
  {
   "cell_type": "code",
   "execution_count": 4,
   "metadata": {},
   "outputs": [],
   "source": [
    "columns = df.columns.values\n",
    "dictionary = {True: '1', False: '0'}\n",
    "for column in columns:\n",
    "    x = 0\n",
    "    vals = df[column].values.tolist()\n",
    "    for val in vals:\n",
    "        if (isinstance(val, str)):    \n",
    "            dictionary[val] = x\n",
    "            x += 1\n",
    "for column in columns:\n",
    "        def convert_to_int(val):\n",
    "            try:  \n",
    "                return dictionary[val]\n",
    "            except:\n",
    "                return val\n",
    "        df[column] = list(map(convert_to_int, df[column]))"
   ]
  },
  {
   "cell_type": "code",
   "execution_count": 5,
   "metadata": {},
   "outputs": [
    {
     "name": "stderr",
     "output_type": "stream",
     "text": [
      "C:\\Users\\cookdavi\\AppData\\Local\\Programs\\Python\\Python37-32\\lib\\site-packages\\sklearn\\preprocessing\\data.py:323: DataConversionWarning: Data with input dtype int64, float64, object were all converted to float64 by MinMaxScaler.\n",
      "  return self.partial_fit(X, y)\n"
     ]
    }
   ],
   "source": [
    "scaler = MinMaxScaler(feature_range=(0, 1))\n",
    "scaled_transformed = scaler.fit_transform(df)\n",
    "scaled_df = pd.DataFrame(scaled_transformed, columns=df.columns.values)"
   ]
  },
  {
   "cell_type": "code",
   "execution_count": null,
   "metadata": {},
   "outputs": [
    {
     "data": {
      "application/vnd.jupyter.widget-view+json": {
       "model_id": "f2ccf16cac70443999b01bb99fbefa79",
       "version_major": 2,
       "version_minor": 0
      },
      "text/plain": [
       "HBox(children=(FloatProgress(value=0.0, description='variables', max=895.0, style=ProgressStyle(description_wi…"
      ]
     },
     "metadata": {},
     "output_type": "display_data"
    },
    {
     "name": "stdout",
     "output_type": "stream",
     "text": [
      "\n"
     ]
    },
    {
     "data": {
      "application/vnd.jupyter.widget-view+json": {
       "model_id": "34a180934ade472d9362ed75421022bf",
       "version_major": 2,
       "version_minor": 0
      },
      "text/plain": [
       "HBox(children=(FloatProgress(value=0.0, description='table', max=1.0, style=ProgressStyle(description_width='i…"
      ]
     },
     "metadata": {},
     "output_type": "display_data"
    },
    {
     "name": "stdout",
     "output_type": "stream",
     "text": [
      "\n"
     ]
    },
    {
     "data": {
      "application/vnd.jupyter.widget-view+json": {
       "model_id": "1f08a0e6b4b64d99abd538bf7b1564fd",
       "version_major": 2,
       "version_minor": 0
      },
      "text/plain": [
       "HBox(children=(FloatProgress(value=0.0, description='warnings', max=3.0, style=ProgressStyle(description_width…"
      ]
     },
     "metadata": {},
     "output_type": "display_data"
    },
    {
     "name": "stdout",
     "output_type": "stream",
     "text": [
      "\n"
     ]
    },
    {
     "data": {
      "application/vnd.jupyter.widget-view+json": {
       "model_id": "c65f3e084151431da1b5ebb078d0b586",
       "version_major": 2,
       "version_minor": 0
      },
      "text/plain": [
       "HBox(children=(FloatProgress(value=0.0, description='package', max=1.0, style=ProgressStyle(description_width=…"
      ]
     },
     "metadata": {},
     "output_type": "display_data"
    },
    {
     "name": "stdout",
     "output_type": "stream",
     "text": [
      "\n"
     ]
    },
    {
     "data": {
      "application/vnd.jupyter.widget-view+json": {
       "model_id": "5f8e688b54e947b3853ff14d951c483b",
       "version_major": 2,
       "version_minor": 0
      },
      "text/plain": [
       "HBox(children=(FloatProgress(value=0.0, description='build report structure', max=1.0, style=ProgressStyle(des…"
      ]
     },
     "metadata": {},
     "output_type": "display_data"
    }
   ],
   "source": [
    "profile = ProfileReport(scaled_df, minimal=True)"
   ]
  },
  {
   "cell_type": "code",
   "execution_count": null,
   "metadata": {},
   "outputs": [],
   "source": [
    "profile.to_notebook_iframe()"
   ]
  },
  {
   "cell_type": "code",
   "execution_count": null,
   "metadata": {},
   "outputs": [],
   "source": [
    "profile.to_file(output_file=\"profileReport.html\")"
   ]
  },
  {
   "cell_type": "code",
   "execution_count": null,
   "metadata": {},
   "outputs": [],
   "source": [
    "#newDf = df[['label_3', 'label_poly', 'label_poly_s', 'SrcIP', 'DstIP', 'SrcPort', 'DstPort', 'SrcIPInVlan',  'DstIPInVlan']]"
   ]
  },
  {
   "cell_type": "code",
   "execution_count": null,
   "metadata": {},
   "outputs": [],
   "source": [
    "#grr = pd.plotting.scatter_matrix(newDf, figsize=(15, 15), marker='o',\n",
    "#hist_kwds={'bins': 20}, s=60, alpha=.8)"
   ]
  },
  {
   "cell_type": "code",
   "execution_count": null,
   "metadata": {},
   "outputs": [],
   "source": []
  }
 ],
 "metadata": {
  "kernelspec": {
   "display_name": "Python 3",
   "language": "python",
   "name": "python3"
  },
  "language_info": {
   "codemirror_mode": {
    "name": "ipython",
    "version": 3
   },
   "file_extension": ".py",
   "mimetype": "text/x-python",
   "name": "python",
   "nbconvert_exporter": "python",
   "pygments_lexer": "ipython3",
   "version": "3.7.1"
  }
 },
 "nbformat": 4,
 "nbformat_minor": 2
}
