{
 "cells": [
  {
   "cell_type": "markdown",
   "metadata": {},
   "source": [
    "# Neural Network utilizing ASNM_TUN dataset to determine malicious network traffic"
   ]
  },
  {
   "cell_type": "markdown",
   "metadata": {},
   "source": [
    "### Importing libraries"
   ]
  },
  {
   "cell_type": "code",
   "execution_count": 38,
   "metadata": {},
   "outputs": [],
   "source": [
    "import os\n",
    "import pandas as pd\n",
    "import numpy as np\n",
    "from keras.models import Sequential\n",
    "from keras.layers import *\n",
    "from sklearn.preprocessing import MinMaxScaler\n",
    "from sklearn.model_selection import KFold\n",
    "from sklearn.model_selection import StratifiedKFold\n",
    "from sklearn.feature_selection import RFECV\n",
    "from keras.wrappers.scikit_learn import KerasClassifier\n",
    "from sklearn.model_selection import cross_val_score\n",
    "from sklearn.svm import SVC"
   ]
  },
  {
   "cell_type": "code",
   "execution_count": 39,
   "metadata": {},
   "outputs": [],
   "source": [
    "df = pd.read_csv(\"ASNM-datasets/ASNM-TUN.csv\")"
   ]
  },
  {
   "cell_type": "code",
   "execution_count": 40,
   "metadata": {},
   "outputs": [],
   "source": [
    "df = df.fillna(df.mean())"
   ]
  },
  {
   "cell_type": "code",
   "execution_count": 41,
   "metadata": {},
   "outputs": [],
   "source": [
    "droppedAttributes = ['label_3', 'label_2', 'label_poly', 'label_poly_s', 'SrcIP', 'DstIP', 'SrcPort', 'DstPort', 'SrcIPInVlan','DstIPInVlan']\n",
    "X = df.drop(droppedAttributes, axis=1).values\n",
    "y = df[['label_3']].values"
   ]
  },
  {
   "cell_type": "code",
   "execution_count": 42,
   "metadata": {},
   "outputs": [
    {
     "output_type": "execute_result",
     "data": {
      "text/plain": "(394, 885)"
     },
     "metadata": {},
     "execution_count": 42
    }
   ],
   "source": [
    "X.shape"
   ]
  },
  {
   "cell_type": "code",
   "execution_count": 43,
   "metadata": {},
   "outputs": [],
   "source": [
    "estimator = SVC(kernel=\"linear\")\n",
    "selector =  RFECV(estimator, n_jobs=-1, step=10, min_features_to_select=3, cv=5, scoring='accuracy').fit(X,y)"
   ]
  },
  {
   "cell_type": "code",
   "execution_count": 44,
   "metadata": {},
   "outputs": [
    {
     "output_type": "execute_result",
     "data": {
      "text/plain": "['PolyInd10ordOut[3]',\n 'OutPktLen64s10i[8]',\n 'OutPkt4s10i[7]',\n 'ConTcpFinCntIn',\n 'GaussProds4In[1]',\n 'FourGonAngleAllN[2]',\n 'MedTCPHdrLen',\n 'GaussProds8In[5]',\n 'SumTTLOut',\n 'PolyTime10ordOut[2]',\n 'InPkt64s20iTr2KB[14]',\n 'OutPkt8s20iTr4KB[14]',\n 'OutPktLen64s10i[5]',\n 'PolyInd13ordIn[7]',\n 'InPkt4s20iTr4KB[13]',\n 'OutPkt1s20iTr4KB[9]',\n 'InPkt1s10i[8]',\n 'OutPkt4s20iTr4KB[14]',\n 'InPkt1s20iTr4KB[2]',\n 'OutPkt32s20iTr4KB[11]',\n 'PolyTime10ordOut[8]',\n 'OutPktLen4s10i[3]',\n 'PolyInd13ordOut[13]',\n 'PolyInd13ordIn[12]',\n 'InPkt64s20iTr2KB[7]']"
     },
     "metadata": {},
     "execution_count": 44
    }
   ],
   "source": [
    "ColsTF = selector.support_\n",
    "ColNames = df.columns\n",
    "ColNames = list(set(ColNames) - set(droppedAttributes))\n",
    "FFSCols = []\n",
    "for bol,col in zip(ColsTF, ColNames):\n",
    "    if bol:\n",
    "        FFSCols.append(col)\n",
    "FFSCols"
   ]
  },
  {
   "cell_type": "code",
   "execution_count": 45,
   "metadata": {},
   "outputs": [
    {
     "output_type": "execute_result",
     "data": {
      "text/plain": "25"
     },
     "metadata": {},
     "execution_count": 45
    }
   ],
   "source": [
    "len(FFSCols)"
   ]
  },
  {
   "cell_type": "code",
   "execution_count": null,
   "metadata": {},
   "outputs": [],
   "source": []
  }
 ],
 "metadata": {
  "kernelspec": {
   "display_name": "Python 3",
   "language": "python",
   "name": "python3"
  },
  "language_info": {
   "codemirror_mode": {
    "name": "ipython",
    "version": 3
   },
   "file_extension": ".py",
   "mimetype": "text/x-python",
   "name": "python",
   "nbconvert_exporter": "python",
   "pygments_lexer": "ipython3",
   "version": "3.6.9-final"
  }
 },
 "nbformat": 4,
 "nbformat_minor": 2
}